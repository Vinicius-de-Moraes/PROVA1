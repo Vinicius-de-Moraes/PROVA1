{
 "cells": [
  {
   "cell_type": "code",
   "execution_count": 9,
   "id": "567edc92-33f3-40d8-9732-b67cad10c728",
   "metadata": {},
   "outputs": [
    {
     "name": "stdin",
     "output_type": "stream",
     "text": [
      "Digite o Primeiro valor:  1\n",
      "Digite o Segundo valor:  2\n",
      "Digite o Terceiro valor:  3\n"
     ]
    },
    {
     "name": "stdout",
     "output_type": "stream",
     "text": [
      "A média é:  2.0\n"
     ]
    }
   ],
   "source": [
    "a=int(input(\"Digite o Primeiro valor: \"))\n",
    "b=int(input(\"Digite o Segundo valor: \"))\n",
    "c=int(input(\"Digite o Terceiro valor: \"))\n",
    "\n",
    "media = (a+b+c)/3\n",
    "print(\"A média é: \",media)"
   ]
  },
  {
   "cell_type": "code",
   "execution_count": null,
   "id": "92ea22ac-3ce7-419a-bb7e-4050ab534e48",
   "metadata": {},
   "outputs": [],
   "source": []
  }
 ],
 "metadata": {
  "kernelspec": {
   "display_name": "Python [conda env:base] *",
   "language": "python",
   "name": "conda-base-py"
  },
  "language_info": {
   "codemirror_mode": {
    "name": "ipython",
    "version": 3
   },
   "file_extension": ".py",
   "mimetype": "text/x-python",
   "name": "python",
   "nbconvert_exporter": "python",
   "pygments_lexer": "ipython3",
   "version": "3.12.7"
  }
 },
 "nbformat": 4,
 "nbformat_minor": 5
}
